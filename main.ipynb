{
 "cells": [
  {
   "cell_type": "code",
   "execution_count": 1,
   "id": "a891d702",
   "metadata": {},
   "outputs": [],
   "source": [
    "import os\n",
    "import requests"
   ]
  },
  {
   "cell_type": "markdown",
   "id": "dc88ee79",
   "metadata": {},
   "source": [
    "run code cell below to retrieve updated ONI data"
   ]
  },
  {
   "cell_type": "code",
   "execution_count": 2,
   "id": "e7ff1b35",
   "metadata": {},
   "outputs": [
    {
     "name": "stdout",
     "output_type": "stream",
     "text": [
      "File saved to data/oni.ascii.txt\n"
     ]
    }
   ],
   "source": [
    "url = \"https://www.cpc.ncep.noaa.gov/data/indices/oni.ascii.txt\"\n",
    "path = \"data/oni.ascii.txt\"\n",
    "\n",
    "os.makedirs(os.path.dirname(path), exist_ok=True)\n",
    "response = requests.get(url)\n",
    "with open(path, 'w') as fd:\n",
    "    fd.write(response.text)\n",
    "\n",
    "print(f\"File saved to {path}\")"
   ]
  }
 ],
 "metadata": {
  "kernelspec": {
   "display_name": "Python 3",
   "language": "python",
   "name": "python3"
  },
  "language_info": {
   "codemirror_mode": {
    "name": "ipython",
    "version": 3
   },
   "file_extension": ".py",
   "mimetype": "text/x-python",
   "name": "python",
   "nbconvert_exporter": "python",
   "pygments_lexer": "ipython3",
   "version": "3.13.1"
  }
 },
 "nbformat": 4,
 "nbformat_minor": 5
}
